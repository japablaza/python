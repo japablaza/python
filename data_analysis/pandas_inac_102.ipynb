{
 "cells": [
  {
   "cell_type": "code",
   "execution_count": 27,
   "metadata": {},
   "outputs": [
    {
     "data": {
      "text/html": [
       "<div>\n",
       "<style scoped>\n",
       "    .dataframe tbody tr th:only-of-type {\n",
       "        vertical-align: middle;\n",
       "    }\n",
       "\n",
       "    .dataframe tbody tr th {\n",
       "        vertical-align: top;\n",
       "    }\n",
       "\n",
       "    .dataframe thead th {\n",
       "        text-align: right;\n",
       "    }\n",
       "</style>\n",
       "<table border=\"1\" class=\"dataframe\">\n",
       "  <thead>\n",
       "    <tr style=\"text-align: right;\">\n",
       "      <th></th>\n",
       "      <th>Submitted via</th>\n",
       "      <th>Date submitted</th>\n",
       "      <th>Date received</th>\n",
       "      <th>State</th>\n",
       "      <th>Product</th>\n",
       "      <th>Sub-product</th>\n",
       "      <th>Issue</th>\n",
       "      <th>Sub-issue</th>\n",
       "      <th>Company public response</th>\n",
       "      <th>Company response to consumer</th>\n",
       "      <th>Timely response?</th>\n",
       "    </tr>\n",
       "    <tr>\n",
       "      <th>Complaint ID</th>\n",
       "      <th></th>\n",
       "      <th></th>\n",
       "      <th></th>\n",
       "      <th></th>\n",
       "      <th></th>\n",
       "      <th></th>\n",
       "      <th></th>\n",
       "      <th></th>\n",
       "      <th></th>\n",
       "      <th></th>\n",
       "      <th></th>\n",
       "    </tr>\n",
       "  </thead>\n",
       "  <tbody>\n",
       "    <tr>\n",
       "      <th>4848023</th>\n",
       "      <td>Referral</td>\n",
       "      <td>2021-10-24</td>\n",
       "      <td>2021-10-27</td>\n",
       "      <td>NY</td>\n",
       "      <td>Mortgage</td>\n",
       "      <td>Conventional home mortgage</td>\n",
       "      <td>Applying for a mortgage or refinancing an exis...</td>\n",
       "      <td>NaN</td>\n",
       "      <td>Company has responded to the consumer and the ...</td>\n",
       "      <td>Closed with explanation</td>\n",
       "      <td>Yes</td>\n",
       "    </tr>\n",
       "    <tr>\n",
       "      <th>3621464</th>\n",
       "      <td>Web</td>\n",
       "      <td>2020-04-24</td>\n",
       "      <td>2020-04-24</td>\n",
       "      <td>FL</td>\n",
       "      <td>Money transfer, virtual currency, or money ser...</td>\n",
       "      <td>Refund anticipation check</td>\n",
       "      <td>Lost or stolen check</td>\n",
       "      <td>NaN</td>\n",
       "      <td>Company has responded to the consumer and the ...</td>\n",
       "      <td>Closed with monetary relief</td>\n",
       "      <td>Yes</td>\n",
       "    </tr>\n",
       "    <tr>\n",
       "      <th>5818349</th>\n",
       "      <td>Web</td>\n",
       "      <td>2022-07-27</td>\n",
       "      <td>2022-07-27</td>\n",
       "      <td>CA</td>\n",
       "      <td>Credit reporting, credit repair services, or o...</td>\n",
       "      <td>Credit reporting</td>\n",
       "      <td>Incorrect information on your report</td>\n",
       "      <td>Account information incorrect</td>\n",
       "      <td>Company has responded to the consumer and the ...</td>\n",
       "      <td>Closed with explanation</td>\n",
       "      <td>Yes</td>\n",
       "    </tr>\n",
       "    <tr>\n",
       "      <th>7233015</th>\n",
       "      <td>Referral</td>\n",
       "      <td>2023-07-10</td>\n",
       "      <td>2023-07-11</td>\n",
       "      <td>CA</td>\n",
       "      <td>Credit card or prepaid card</td>\n",
       "      <td>General-purpose prepaid card</td>\n",
       "      <td>Problem getting a card or closing an account</td>\n",
       "      <td>Trouble getting, activating, or registering a ...</td>\n",
       "      <td>NaN</td>\n",
       "      <td>In progress</td>\n",
       "      <td>NaN</td>\n",
       "    </tr>\n",
       "    <tr>\n",
       "      <th>5820224</th>\n",
       "      <td>Referral</td>\n",
       "      <td>2022-07-27</td>\n",
       "      <td>2022-07-28</td>\n",
       "      <td>VA</td>\n",
       "      <td>Credit card or prepaid card</td>\n",
       "      <td>General-purpose credit card or charge card</td>\n",
       "      <td>Closing your account</td>\n",
       "      <td>Company closed your account</td>\n",
       "      <td>Company has responded to the consumer and the ...</td>\n",
       "      <td>Closed with explanation</td>\n",
       "      <td>Yes</td>\n",
       "    </tr>\n",
       "  </tbody>\n",
       "</table>\n",
       "</div>"
      ],
      "text/plain": [
       "             Submitted via Date submitted Date received State  \\\n",
       "Complaint ID                                                    \n",
       "4848023           Referral     2021-10-24    2021-10-27    NY   \n",
       "3621464                Web     2020-04-24    2020-04-24    FL   \n",
       "5818349                Web     2022-07-27    2022-07-27    CA   \n",
       "7233015           Referral     2023-07-10    2023-07-11    CA   \n",
       "5820224           Referral     2022-07-27    2022-07-28    VA   \n",
       "\n",
       "                                                        Product  \\\n",
       "Complaint ID                                                      \n",
       "4848023                                                Mortgage   \n",
       "3621464       Money transfer, virtual currency, or money ser...   \n",
       "5818349       Credit reporting, credit repair services, or o...   \n",
       "7233015                             Credit card or prepaid card   \n",
       "5820224                             Credit card or prepaid card   \n",
       "\n",
       "                                             Sub-product  \\\n",
       "Complaint ID                                               \n",
       "4848023                       Conventional home mortgage   \n",
       "3621464                        Refund anticipation check   \n",
       "5818349                                 Credit reporting   \n",
       "7233015                     General-purpose prepaid card   \n",
       "5820224       General-purpose credit card or charge card   \n",
       "\n",
       "                                                          Issue  \\\n",
       "Complaint ID                                                      \n",
       "4848023       Applying for a mortgage or refinancing an exis...   \n",
       "3621464                                    Lost or stolen check   \n",
       "5818349                    Incorrect information on your report   \n",
       "7233015            Problem getting a card or closing an account   \n",
       "5820224                                    Closing your account   \n",
       "\n",
       "                                                      Sub-issue  \\\n",
       "Complaint ID                                                      \n",
       "4848023                                                     NaN   \n",
       "3621464                                                     NaN   \n",
       "5818349                           Account information incorrect   \n",
       "7233015       Trouble getting, activating, or registering a ...   \n",
       "5820224                             Company closed your account   \n",
       "\n",
       "                                        Company public response  \\\n",
       "Complaint ID                                                      \n",
       "4848023       Company has responded to the consumer and the ...   \n",
       "3621464       Company has responded to the consumer and the ...   \n",
       "5818349       Company has responded to the consumer and the ...   \n",
       "7233015                                                     NaN   \n",
       "5820224       Company has responded to the consumer and the ...   \n",
       "\n",
       "             Company response to consumer Timely response?  \n",
       "Complaint ID                                                \n",
       "4848023           Closed with explanation              Yes  \n",
       "3621464       Closed with monetary relief              Yes  \n",
       "5818349           Closed with explanation              Yes  \n",
       "7233015                       In progress              NaN  \n",
       "5820224           Closed with explanation              Yes  "
      ]
     },
     "execution_count": 27,
     "metadata": {},
     "output_type": "execute_result"
    }
   ],
   "source": [
    "import pandas as pd\n",
    "import numpy as np\n",
    "file = \"cu_comp.xlsx\"\n",
    "\n",
    "df = pd.read_excel(file, index_col=\"Complaint ID\")\n",
    "df.head()"
   ]
  },
  {
   "cell_type": "code",
   "execution_count": 2,
   "metadata": {},
   "outputs": [],
   "source": [
    "shape = df.shape\n",
    "rows  = shape[0]"
   ]
  },
  {
   "cell_type": "code",
   "execution_count": 3,
   "metadata": {},
   "outputs": [
    {
     "data": {
      "text/plain": [
       "Submitted via                                                           Web\n",
       "Date submitted                                          2023-08-25 00:00:00\n",
       "Date received                                           2023-08-25 00:00:00\n",
       "State                                                                    IL\n",
       "Product                                         Credit card or prepaid card\n",
       "Sub-product                      General-purpose credit card or charge card\n",
       "Issue                                                 Getting a credit card\n",
       "Sub-issue                       Card opened without my consent or knowledge\n",
       "Company public response                                                 NaN\n",
       "Company response to consumer                                    In progress\n",
       "Timely response?                                                        NaN\n",
       "Name: 7456107, dtype: object"
      ]
     },
     "execution_count": 3,
     "metadata": {},
     "output_type": "execute_result"
    }
   ],
   "source": [
    "df['Submitted via'].loc[5818349]#['Submitterd via']\n",
    "df.loc[7456107]"
   ]
  },
  {
   "cell_type": "code",
   "execution_count": 4,
   "metadata": {},
   "outputs": [
    {
     "data": {
      "text/html": [
       "<div>\n",
       "<style scoped>\n",
       "    .dataframe tbody tr th:only-of-type {\n",
       "        vertical-align: middle;\n",
       "    }\n",
       "\n",
       "    .dataframe tbody tr th {\n",
       "        vertical-align: top;\n",
       "    }\n",
       "\n",
       "    .dataframe thead th {\n",
       "        text-align: right;\n",
       "    }\n",
       "</style>\n",
       "<table border=\"1\" class=\"dataframe\">\n",
       "  <thead>\n",
       "    <tr style=\"text-align: right;\">\n",
       "      <th></th>\n",
       "      <th>Submitted via</th>\n",
       "      <th>Date submitted</th>\n",
       "      <th>Date received</th>\n",
       "      <th>State</th>\n",
       "      <th>Product</th>\n",
       "      <th>Sub-product</th>\n",
       "      <th>Issue</th>\n",
       "      <th>Sub-issue</th>\n",
       "      <th>Company public response</th>\n",
       "      <th>Company response to consumer</th>\n",
       "      <th>Timely response?</th>\n",
       "    </tr>\n",
       "    <tr>\n",
       "      <th>Complaint ID</th>\n",
       "      <th></th>\n",
       "      <th></th>\n",
       "      <th></th>\n",
       "      <th></th>\n",
       "      <th></th>\n",
       "      <th></th>\n",
       "      <th></th>\n",
       "      <th></th>\n",
       "      <th></th>\n",
       "      <th></th>\n",
       "      <th></th>\n",
       "    </tr>\n",
       "  </thead>\n",
       "  <tbody>\n",
       "    <tr>\n",
       "      <th>7458912</th>\n",
       "      <td>Web</td>\n",
       "      <td>2023-08-28</td>\n",
       "      <td>2023-08-28</td>\n",
       "      <td>GA</td>\n",
       "      <td>Mortgage</td>\n",
       "      <td>VA mortgage</td>\n",
       "      <td>Closing on a mortgage</td>\n",
       "      <td>Closing disclosure or other related disclosures</td>\n",
       "      <td>NaN</td>\n",
       "      <td>In progress</td>\n",
       "      <td>NaN</td>\n",
       "    </tr>\n",
       "    <tr>\n",
       "      <th>7456107</th>\n",
       "      <td>Web</td>\n",
       "      <td>2023-08-25</td>\n",
       "      <td>2023-08-25</td>\n",
       "      <td>IL</td>\n",
       "      <td>Credit card or prepaid card</td>\n",
       "      <td>General-purpose credit card or charge card</td>\n",
       "      <td>Getting a credit card</td>\n",
       "      <td>Card opened without my consent or knowledge</td>\n",
       "      <td>NaN</td>\n",
       "      <td>In progress</td>\n",
       "      <td>NaN</td>\n",
       "    </tr>\n",
       "    <tr>\n",
       "      <th>7453282</th>\n",
       "      <td>Web</td>\n",
       "      <td>2023-08-24</td>\n",
       "      <td>2023-08-24</td>\n",
       "      <td>TX</td>\n",
       "      <td>Money transfer, virtual currency, or money ser...</td>\n",
       "      <td>Domestic (US) money transfer</td>\n",
       "      <td>Money was not available when promised</td>\n",
       "      <td>NaN</td>\n",
       "      <td>NaN</td>\n",
       "      <td>In progress</td>\n",
       "      <td>NaN</td>\n",
       "    </tr>\n",
       "    <tr>\n",
       "      <th>7442955</th>\n",
       "      <td>Web</td>\n",
       "      <td>2023-08-23</td>\n",
       "      <td>2023-08-23</td>\n",
       "      <td>NJ</td>\n",
       "      <td>Credit reporting, credit repair services, or o...</td>\n",
       "      <td>Credit reporting</td>\n",
       "      <td>Improper use of your report</td>\n",
       "      <td>Reporting company used your report improperly</td>\n",
       "      <td>NaN</td>\n",
       "      <td>In progress</td>\n",
       "      <td>NaN</td>\n",
       "    </tr>\n",
       "    <tr>\n",
       "      <th>7445929</th>\n",
       "      <td>Phone</td>\n",
       "      <td>2023-08-23</td>\n",
       "      <td>2023-08-23</td>\n",
       "      <td>CA</td>\n",
       "      <td>Credit card or prepaid card</td>\n",
       "      <td>General-purpose credit card or charge card</td>\n",
       "      <td>Problem with a purchase shown on your statement</td>\n",
       "      <td>Card was charged for something you did not pur...</td>\n",
       "      <td>NaN</td>\n",
       "      <td>In progress</td>\n",
       "      <td>NaN</td>\n",
       "    </tr>\n",
       "  </tbody>\n",
       "</table>\n",
       "</div>"
      ],
      "text/plain": [
       "             Submitted via Date submitted Date received State  \\\n",
       "Complaint ID                                                    \n",
       "7458912                Web     2023-08-28    2023-08-28    GA   \n",
       "7456107                Web     2023-08-25    2023-08-25    IL   \n",
       "7453282                Web     2023-08-24    2023-08-24    TX   \n",
       "7442955                Web     2023-08-23    2023-08-23    NJ   \n",
       "7445929              Phone     2023-08-23    2023-08-23    CA   \n",
       "\n",
       "                                                        Product  \\\n",
       "Complaint ID                                                      \n",
       "7458912                                                Mortgage   \n",
       "7456107                             Credit card or prepaid card   \n",
       "7453282       Money transfer, virtual currency, or money ser...   \n",
       "7442955       Credit reporting, credit repair services, or o...   \n",
       "7445929                             Credit card or prepaid card   \n",
       "\n",
       "                                             Sub-product  \\\n",
       "Complaint ID                                               \n",
       "7458912                                      VA mortgage   \n",
       "7456107       General-purpose credit card or charge card   \n",
       "7453282                     Domestic (US) money transfer   \n",
       "7442955                                 Credit reporting   \n",
       "7445929       General-purpose credit card or charge card   \n",
       "\n",
       "                                                        Issue  \\\n",
       "Complaint ID                                                    \n",
       "7458912                                 Closing on a mortgage   \n",
       "7456107                                 Getting a credit card   \n",
       "7453282                 Money was not available when promised   \n",
       "7442955                           Improper use of your report   \n",
       "7445929       Problem with a purchase shown on your statement   \n",
       "\n",
       "                                                      Sub-issue  \\\n",
       "Complaint ID                                                      \n",
       "7458912         Closing disclosure or other related disclosures   \n",
       "7456107             Card opened without my consent or knowledge   \n",
       "7453282                                                     NaN   \n",
       "7442955           Reporting company used your report improperly   \n",
       "7445929       Card was charged for something you did not pur...   \n",
       "\n",
       "             Company public response Company response to consumer  \\\n",
       "Complaint ID                                                        \n",
       "7458912                          NaN                  In progress   \n",
       "7456107                          NaN                  In progress   \n",
       "7453282                          NaN                  In progress   \n",
       "7442955                          NaN                  In progress   \n",
       "7445929                          NaN                  In progress   \n",
       "\n",
       "             Timely response?  \n",
       "Complaint ID                   \n",
       "7458912                   NaN  \n",
       "7456107                   NaN  \n",
       "7453282                   NaN  \n",
       "7442955                   NaN  \n",
       "7445929                   NaN  "
      ]
     },
     "execution_count": 4,
     "metadata": {},
     "output_type": "execute_result"
    }
   ],
   "source": [
    "df.sort_values(by =\"Date submitted\", ascending=False).head()"
   ]
  },
  {
   "cell_type": "code",
   "execution_count": 5,
   "metadata": {},
   "outputs": [
    {
     "data": {
      "text/html": [
       "<div>\n",
       "<style scoped>\n",
       "    .dataframe tbody tr th:only-of-type {\n",
       "        vertical-align: middle;\n",
       "    }\n",
       "\n",
       "    .dataframe tbody tr th {\n",
       "        vertical-align: top;\n",
       "    }\n",
       "\n",
       "    .dataframe thead th {\n",
       "        text-align: right;\n",
       "    }\n",
       "</style>\n",
       "<table border=\"1\" class=\"dataframe\">\n",
       "  <thead>\n",
       "    <tr style=\"text-align: right;\">\n",
       "      <th></th>\n",
       "      <th>Submitted via</th>\n",
       "      <th>Date submitted</th>\n",
       "      <th>Date received</th>\n",
       "      <th>State</th>\n",
       "      <th>Product</th>\n",
       "      <th>Sub-product</th>\n",
       "      <th>Issue</th>\n",
       "      <th>Sub-issue</th>\n",
       "      <th>Company public response</th>\n",
       "      <th>Company response to consumer</th>\n",
       "      <th>Timely response?</th>\n",
       "    </tr>\n",
       "    <tr>\n",
       "      <th>Complaint ID</th>\n",
       "      <th></th>\n",
       "      <th></th>\n",
       "      <th></th>\n",
       "      <th></th>\n",
       "      <th></th>\n",
       "      <th></th>\n",
       "      <th></th>\n",
       "      <th></th>\n",
       "      <th></th>\n",
       "      <th></th>\n",
       "      <th></th>\n",
       "    </tr>\n",
       "  </thead>\n",
       "  <tbody>\n",
       "    <tr>\n",
       "      <th>6855701</th>\n",
       "      <td>Referral</td>\n",
       "      <td>2023-04-13</td>\n",
       "      <td>2023-04-19</td>\n",
       "      <td>AK</td>\n",
       "      <td>Checking or savings account</td>\n",
       "      <td>Checking account</td>\n",
       "      <td>Managing an account</td>\n",
       "      <td>Deposits and withdrawals</td>\n",
       "      <td>Company has responded to the consumer and the ...</td>\n",
       "      <td>Closed with explanation</td>\n",
       "      <td>Yes</td>\n",
       "    </tr>\n",
       "    <tr>\n",
       "      <th>6348420</th>\n",
       "      <td>Web</td>\n",
       "      <td>2022-12-21</td>\n",
       "      <td>2022-12-21</td>\n",
       "      <td>AK</td>\n",
       "      <td>Checking or savings account</td>\n",
       "      <td>Checking account</td>\n",
       "      <td>Problem with a lender or other company chargin...</td>\n",
       "      <td>Transaction was not authorized</td>\n",
       "      <td>Company has responded to the consumer and the ...</td>\n",
       "      <td>Closed with monetary relief</td>\n",
       "      <td>Yes</td>\n",
       "    </tr>\n",
       "    <tr>\n",
       "      <th>3182068</th>\n",
       "      <td>Web</td>\n",
       "      <td>2019-03-16</td>\n",
       "      <td>2019-03-19</td>\n",
       "      <td>AK</td>\n",
       "      <td>Checking or savings account</td>\n",
       "      <td>Checking account</td>\n",
       "      <td>Opening an account</td>\n",
       "      <td>Account opened as a result of fraud</td>\n",
       "      <td>Company has responded to the consumer and the ...</td>\n",
       "      <td>Closed with explanation</td>\n",
       "      <td>Yes</td>\n",
       "    </tr>\n",
       "    <tr>\n",
       "      <th>7277307</th>\n",
       "      <td>Referral</td>\n",
       "      <td>2023-06-30</td>\n",
       "      <td>2023-07-18</td>\n",
       "      <td>AK</td>\n",
       "      <td>Checking or savings account</td>\n",
       "      <td>Checking account</td>\n",
       "      <td>Managing an account</td>\n",
       "      <td>Banking errors</td>\n",
       "      <td>Company has responded to the consumer and the ...</td>\n",
       "      <td>Closed with explanation</td>\n",
       "      <td>Yes</td>\n",
       "    </tr>\n",
       "    <tr>\n",
       "      <th>6367135</th>\n",
       "      <td>Referral</td>\n",
       "      <td>2022-12-27</td>\n",
       "      <td>2022-12-27</td>\n",
       "      <td>AK</td>\n",
       "      <td>Checking or savings account</td>\n",
       "      <td>Checking account</td>\n",
       "      <td>Managing an account</td>\n",
       "      <td>Deposits and withdrawals</td>\n",
       "      <td>Company has responded to the consumer and the ...</td>\n",
       "      <td>Closed with monetary relief</td>\n",
       "      <td>Yes</td>\n",
       "    </tr>\n",
       "  </tbody>\n",
       "</table>\n",
       "</div>"
      ],
      "text/plain": [
       "             Submitted via Date submitted Date received State  \\\n",
       "Complaint ID                                                    \n",
       "6855701           Referral     2023-04-13    2023-04-19    AK   \n",
       "6348420                Web     2022-12-21    2022-12-21    AK   \n",
       "3182068                Web     2019-03-16    2019-03-19    AK   \n",
       "7277307           Referral     2023-06-30    2023-07-18    AK   \n",
       "6367135           Referral     2022-12-27    2022-12-27    AK   \n",
       "\n",
       "                                  Product       Sub-product  \\\n",
       "Complaint ID                                                  \n",
       "6855701       Checking or savings account  Checking account   \n",
       "6348420       Checking or savings account  Checking account   \n",
       "3182068       Checking or savings account  Checking account   \n",
       "7277307       Checking or savings account  Checking account   \n",
       "6367135       Checking or savings account  Checking account   \n",
       "\n",
       "                                                          Issue  \\\n",
       "Complaint ID                                                      \n",
       "6855701                                     Managing an account   \n",
       "6348420       Problem with a lender or other company chargin...   \n",
       "3182068                                      Opening an account   \n",
       "7277307                                     Managing an account   \n",
       "6367135                                     Managing an account   \n",
       "\n",
       "                                        Sub-issue  \\\n",
       "Complaint ID                                        \n",
       "6855701                  Deposits and withdrawals   \n",
       "6348420            Transaction was not authorized   \n",
       "3182068       Account opened as a result of fraud   \n",
       "7277307                            Banking errors   \n",
       "6367135                  Deposits and withdrawals   \n",
       "\n",
       "                                        Company public response  \\\n",
       "Complaint ID                                                      \n",
       "6855701       Company has responded to the consumer and the ...   \n",
       "6348420       Company has responded to the consumer and the ...   \n",
       "3182068       Company has responded to the consumer and the ...   \n",
       "7277307       Company has responded to the consumer and the ...   \n",
       "6367135       Company has responded to the consumer and the ...   \n",
       "\n",
       "             Company response to consumer Timely response?  \n",
       "Complaint ID                                                \n",
       "6855701           Closed with explanation              Yes  \n",
       "6348420       Closed with monetary relief              Yes  \n",
       "3182068           Closed with explanation              Yes  \n",
       "7277307           Closed with explanation              Yes  \n",
       "6367135       Closed with monetary relief              Yes  "
      ]
     },
     "execution_count": 5,
     "metadata": {},
     "output_type": "execute_result"
    }
   ],
   "source": [
    "df.sort_values(by= [\"State\", \"Product\", \"Sub-product\"]).head()"
   ]
  },
  {
   "cell_type": "code",
   "execution_count": 6,
   "metadata": {},
   "outputs": [
    {
     "data": {
      "text/html": [
       "<div>\n",
       "<style scoped>\n",
       "    .dataframe tbody tr th:only-of-type {\n",
       "        vertical-align: middle;\n",
       "    }\n",
       "\n",
       "    .dataframe tbody tr th {\n",
       "        vertical-align: top;\n",
       "    }\n",
       "\n",
       "    .dataframe thead th {\n",
       "        text-align: right;\n",
       "    }\n",
       "</style>\n",
       "<table border=\"1\" class=\"dataframe\">\n",
       "  <thead>\n",
       "    <tr style=\"text-align: right;\">\n",
       "      <th></th>\n",
       "      <th>Submitted via</th>\n",
       "      <th>Date submitted</th>\n",
       "      <th>Date received</th>\n",
       "      <th>State</th>\n",
       "      <th>Product</th>\n",
       "      <th>Sub-product</th>\n",
       "      <th>Issue</th>\n",
       "      <th>Sub-issue</th>\n",
       "      <th>Company public response</th>\n",
       "      <th>Company response to consumer</th>\n",
       "      <th>Timely response?</th>\n",
       "    </tr>\n",
       "    <tr>\n",
       "      <th>Complaint ID</th>\n",
       "      <th></th>\n",
       "      <th></th>\n",
       "      <th></th>\n",
       "      <th></th>\n",
       "      <th></th>\n",
       "      <th></th>\n",
       "      <th></th>\n",
       "      <th></th>\n",
       "      <th></th>\n",
       "      <th></th>\n",
       "      <th></th>\n",
       "    </tr>\n",
       "  </thead>\n",
       "  <tbody>\n",
       "    <tr>\n",
       "      <th>2471340</th>\n",
       "      <td>Web</td>\n",
       "      <td>2017-05-01</td>\n",
       "      <td>2017-05-01</td>\n",
       "      <td>MO</td>\n",
       "      <td>Credit reporting, credit repair services, or o...</td>\n",
       "      <td>Credit reporting</td>\n",
       "      <td>Incorrect information on your report</td>\n",
       "      <td>Account information incorrect</td>\n",
       "      <td>Company has responded to the consumer and the ...</td>\n",
       "      <td>Closed with explanation</td>\n",
       "      <td>Yes</td>\n",
       "    </tr>\n",
       "    <tr>\n",
       "      <th>2471377</th>\n",
       "      <td>Web</td>\n",
       "      <td>2017-05-01</td>\n",
       "      <td>2017-05-04</td>\n",
       "      <td>NV</td>\n",
       "      <td>Checking or savings account</td>\n",
       "      <td>Savings account</td>\n",
       "      <td>Problem with a lender or other company chargin...</td>\n",
       "      <td>Transaction was not authorized</td>\n",
       "      <td>Company has responded to the consumer and the ...</td>\n",
       "      <td>Closed with explanation</td>\n",
       "      <td>Yes</td>\n",
       "    </tr>\n",
       "    <tr>\n",
       "      <th>2471473</th>\n",
       "      <td>Web</td>\n",
       "      <td>2017-05-01</td>\n",
       "      <td>2017-05-01</td>\n",
       "      <td>DE</td>\n",
       "      <td>Checking or savings account</td>\n",
       "      <td>Other banking product or service</td>\n",
       "      <td>Managing an account</td>\n",
       "      <td>Funds not handled or disbursed as instructed</td>\n",
       "      <td>Company has responded to the consumer and the ...</td>\n",
       "      <td>Closed with non-monetary relief</td>\n",
       "      <td>Yes</td>\n",
       "    </tr>\n",
       "    <tr>\n",
       "      <th>2471476</th>\n",
       "      <td>Web</td>\n",
       "      <td>2017-05-01</td>\n",
       "      <td>2017-05-01</td>\n",
       "      <td>KS</td>\n",
       "      <td>Mortgage</td>\n",
       "      <td>Conventional home mortgage</td>\n",
       "      <td>Trouble during payment process</td>\n",
       "      <td>NaN</td>\n",
       "      <td>Company has responded to the consumer and the ...</td>\n",
       "      <td>Closed with explanation</td>\n",
       "      <td>Yes</td>\n",
       "    </tr>\n",
       "    <tr>\n",
       "      <th>2471498</th>\n",
       "      <td>Web</td>\n",
       "      <td>2017-05-01</td>\n",
       "      <td>2017-05-01</td>\n",
       "      <td>OH</td>\n",
       "      <td>Debt collection</td>\n",
       "      <td>I do not know</td>\n",
       "      <td>Communication tactics</td>\n",
       "      <td>You told them to stop contacting you, but they...</td>\n",
       "      <td>Company has responded to the consumer and the ...</td>\n",
       "      <td>Closed with non-monetary relief</td>\n",
       "      <td>Yes</td>\n",
       "    </tr>\n",
       "  </tbody>\n",
       "</table>\n",
       "</div>"
      ],
      "text/plain": [
       "             Submitted via Date submitted Date received State  \\\n",
       "Complaint ID                                                    \n",
       "2471340                Web     2017-05-01    2017-05-01    MO   \n",
       "2471377                Web     2017-05-01    2017-05-04    NV   \n",
       "2471473                Web     2017-05-01    2017-05-01    DE   \n",
       "2471476                Web     2017-05-01    2017-05-01    KS   \n",
       "2471498                Web     2017-05-01    2017-05-01    OH   \n",
       "\n",
       "                                                        Product  \\\n",
       "Complaint ID                                                      \n",
       "2471340       Credit reporting, credit repair services, or o...   \n",
       "2471377                             Checking or savings account   \n",
       "2471473                             Checking or savings account   \n",
       "2471476                                                Mortgage   \n",
       "2471498                                         Debt collection   \n",
       "\n",
       "                                   Sub-product  \\\n",
       "Complaint ID                                     \n",
       "2471340                       Credit reporting   \n",
       "2471377                        Savings account   \n",
       "2471473       Other banking product or service   \n",
       "2471476             Conventional home mortgage   \n",
       "2471498                          I do not know   \n",
       "\n",
       "                                                          Issue  \\\n",
       "Complaint ID                                                      \n",
       "2471340                    Incorrect information on your report   \n",
       "2471377       Problem with a lender or other company chargin...   \n",
       "2471473                                     Managing an account   \n",
       "2471476                          Trouble during payment process   \n",
       "2471498                                   Communication tactics   \n",
       "\n",
       "                                                      Sub-issue  \\\n",
       "Complaint ID                                                      \n",
       "2471340                           Account information incorrect   \n",
       "2471377                          Transaction was not authorized   \n",
       "2471473            Funds not handled or disbursed as instructed   \n",
       "2471476                                                     NaN   \n",
       "2471498       You told them to stop contacting you, but they...   \n",
       "\n",
       "                                        Company public response  \\\n",
       "Complaint ID                                                      \n",
       "2471340       Company has responded to the consumer and the ...   \n",
       "2471377       Company has responded to the consumer and the ...   \n",
       "2471473       Company has responded to the consumer and the ...   \n",
       "2471476       Company has responded to the consumer and the ...   \n",
       "2471498       Company has responded to the consumer and the ...   \n",
       "\n",
       "                 Company response to consumer Timely response?  \n",
       "Complaint ID                                                    \n",
       "2471340               Closed with explanation              Yes  \n",
       "2471377               Closed with explanation              Yes  \n",
       "2471473       Closed with non-monetary relief              Yes  \n",
       "2471476               Closed with explanation              Yes  \n",
       "2471498       Closed with non-monetary relief              Yes  "
      ]
     },
     "execution_count": 6,
     "metadata": {},
     "output_type": "execute_result"
    }
   ],
   "source": [
    "df.sort_index().head()"
   ]
  },
  {
   "cell_type": "code",
   "execution_count": 7,
   "metadata": {},
   "outputs": [
    {
     "data": {
      "text/plain": [
       "Complaint ID\n",
       "4848023    NY\n",
       "3621464    FL\n",
       "5818349    CA\n",
       "7233015    CA\n",
       "5820224    VA\n",
       "Name: State, dtype: object"
      ]
     },
     "execution_count": 7,
     "metadata": {},
     "output_type": "execute_result"
    }
   ],
   "source": [
    "df['State'].head()"
   ]
  },
  {
   "cell_type": "code",
   "execution_count": 8,
   "metadata": {},
   "outputs": [
    {
     "data": {
      "text/plain": [
       "Issue\n",
       "Managing an account                                15109\n",
       "Incorrect information on your report                4931\n",
       "Problem with a purchase shown on your statement     4415\n",
       "Closing an account                                  2953\n",
       "Trouble during payment process                      2827\n",
       "Name: count, dtype: int64"
      ]
     },
     "execution_count": 8,
     "metadata": {},
     "output_type": "execute_result"
    }
   ],
   "source": [
    "df['Issue'].value_counts().head()"
   ]
  },
  {
   "cell_type": "code",
   "execution_count": 9,
   "metadata": {},
   "outputs": [
    {
     "data": {
      "text/html": [
       "<div>\n",
       "<style scoped>\n",
       "    .dataframe tbody tr th:only-of-type {\n",
       "        vertical-align: middle;\n",
       "    }\n",
       "\n",
       "    .dataframe tbody tr th {\n",
       "        vertical-align: top;\n",
       "    }\n",
       "\n",
       "    .dataframe thead th {\n",
       "        text-align: right;\n",
       "    }\n",
       "</style>\n",
       "<table border=\"1\" class=\"dataframe\">\n",
       "  <thead>\n",
       "    <tr style=\"text-align: right;\">\n",
       "      <th></th>\n",
       "      <th>Submitted via</th>\n",
       "      <th>Date submitted</th>\n",
       "      <th>Date received</th>\n",
       "      <th>State</th>\n",
       "      <th>Product</th>\n",
       "      <th>Sub-product</th>\n",
       "      <th>Issue</th>\n",
       "      <th>Sub-issue</th>\n",
       "      <th>Company public response</th>\n",
       "      <th>Company response to consumer</th>\n",
       "      <th>Timely response?</th>\n",
       "    </tr>\n",
       "    <tr>\n",
       "      <th>Complaint ID</th>\n",
       "      <th></th>\n",
       "      <th></th>\n",
       "      <th></th>\n",
       "      <th></th>\n",
       "      <th></th>\n",
       "      <th></th>\n",
       "      <th></th>\n",
       "      <th></th>\n",
       "      <th></th>\n",
       "      <th></th>\n",
       "      <th></th>\n",
       "    </tr>\n",
       "  </thead>\n",
       "  <tbody>\n",
       "    <tr>\n",
       "      <th>4848023</th>\n",
       "      <td>Referral</td>\n",
       "      <td>2021-10-24</td>\n",
       "      <td>2021-10-27</td>\n",
       "      <td>NY</td>\n",
       "      <td>Mortgage</td>\n",
       "      <td>Conventional home mortgage</td>\n",
       "      <td>Applying for a mortgage or refinancing an exis...</td>\n",
       "      <td>NaN</td>\n",
       "      <td>Company has responded to the consumer and the ...</td>\n",
       "      <td>Closed with explanation</td>\n",
       "      <td>Yes</td>\n",
       "    </tr>\n",
       "    <tr>\n",
       "      <th>5780409</th>\n",
       "      <td>Web</td>\n",
       "      <td>2022-07-17</td>\n",
       "      <td>2022-07-17</td>\n",
       "      <td>NY</td>\n",
       "      <td>Mortgage</td>\n",
       "      <td>Home equity loan or line of credit (HELOC)</td>\n",
       "      <td>Trouble during payment process</td>\n",
       "      <td>NaN</td>\n",
       "      <td>Company has responded to the consumer and the ...</td>\n",
       "      <td>Closed with non-monetary relief</td>\n",
       "      <td>Yes</td>\n",
       "    </tr>\n",
       "    <tr>\n",
       "      <th>5028977</th>\n",
       "      <td>Web</td>\n",
       "      <td>2021-12-21</td>\n",
       "      <td>2021-12-21</td>\n",
       "      <td>NY</td>\n",
       "      <td>Mortgage</td>\n",
       "      <td>Conventional home mortgage</td>\n",
       "      <td>Struggling to pay mortgage</td>\n",
       "      <td>NaN</td>\n",
       "      <td>Company has responded to the consumer and the ...</td>\n",
       "      <td>Closed with explanation</td>\n",
       "      <td>Yes</td>\n",
       "    </tr>\n",
       "    <tr>\n",
       "      <th>2789433</th>\n",
       "      <td>Web</td>\n",
       "      <td>2018-01-22</td>\n",
       "      <td>2018-01-24</td>\n",
       "      <td>NY</td>\n",
       "      <td>Mortgage</td>\n",
       "      <td>Conventional home mortgage</td>\n",
       "      <td>Trouble during payment process</td>\n",
       "      <td>NaN</td>\n",
       "      <td>Company has responded to the consumer and the ...</td>\n",
       "      <td>Closed with non-monetary relief</td>\n",
       "      <td>Yes</td>\n",
       "    </tr>\n",
       "    <tr>\n",
       "      <th>6024638</th>\n",
       "      <td>Web</td>\n",
       "      <td>2022-09-27</td>\n",
       "      <td>2022-09-27</td>\n",
       "      <td>NY</td>\n",
       "      <td>Mortgage</td>\n",
       "      <td>Conventional home mortgage</td>\n",
       "      <td>Trouble during payment process</td>\n",
       "      <td>NaN</td>\n",
       "      <td>Company has responded to the consumer and the ...</td>\n",
       "      <td>Closed with non-monetary relief</td>\n",
       "      <td>Yes</td>\n",
       "    </tr>\n",
       "  </tbody>\n",
       "</table>\n",
       "</div>"
      ],
      "text/plain": [
       "             Submitted via Date submitted Date received State   Product  \\\n",
       "Complaint ID                                                              \n",
       "4848023           Referral     2021-10-24    2021-10-27    NY  Mortgage   \n",
       "5780409                Web     2022-07-17    2022-07-17    NY  Mortgage   \n",
       "5028977                Web     2021-12-21    2021-12-21    NY  Mortgage   \n",
       "2789433                Web     2018-01-22    2018-01-24    NY  Mortgage   \n",
       "6024638                Web     2022-09-27    2022-09-27    NY  Mortgage   \n",
       "\n",
       "                                             Sub-product  \\\n",
       "Complaint ID                                               \n",
       "4848023                       Conventional home mortgage   \n",
       "5780409       Home equity loan or line of credit (HELOC)   \n",
       "5028977                       Conventional home mortgage   \n",
       "2789433                       Conventional home mortgage   \n",
       "6024638                       Conventional home mortgage   \n",
       "\n",
       "                                                          Issue Sub-issue  \\\n",
       "Complaint ID                                                                \n",
       "4848023       Applying for a mortgage or refinancing an exis...       NaN   \n",
       "5780409                          Trouble during payment process       NaN   \n",
       "5028977                              Struggling to pay mortgage       NaN   \n",
       "2789433                          Trouble during payment process       NaN   \n",
       "6024638                          Trouble during payment process       NaN   \n",
       "\n",
       "                                        Company public response  \\\n",
       "Complaint ID                                                      \n",
       "4848023       Company has responded to the consumer and the ...   \n",
       "5780409       Company has responded to the consumer and the ...   \n",
       "5028977       Company has responded to the consumer and the ...   \n",
       "2789433       Company has responded to the consumer and the ...   \n",
       "6024638       Company has responded to the consumer and the ...   \n",
       "\n",
       "                 Company response to consumer Timely response?  \n",
       "Complaint ID                                                    \n",
       "4848023               Closed with explanation              Yes  \n",
       "5780409       Closed with non-monetary relief              Yes  \n",
       "5028977               Closed with explanation              Yes  \n",
       "2789433       Closed with non-monetary relief              Yes  \n",
       "6024638       Closed with non-monetary relief              Yes  "
      ]
     },
     "execution_count": 9,
     "metadata": {},
     "output_type": "execute_result"
    }
   ],
   "source": [
    "# Filtering with multiple conditions\n",
    "newyork  = df['State'] == 'NY'\n",
    "mortgage = df['Product'] == 'Mortgage'\n",
    "df[newyork & mortgage].head()"
   ]
  },
  {
   "cell_type": "code",
   "execution_count": 10,
   "metadata": {},
   "outputs": [
    {
     "data": {
      "text/plain": [
       "Submitted via                   9131\n",
       "Date submitted                  9131\n",
       "Date received                   9131\n",
       "State                           9131\n",
       "Product                         9131\n",
       "Sub-product                     9131\n",
       "Issue                           9131\n",
       "Sub-issue                       8009\n",
       "Company public response         7581\n",
       "Company response to consumer    9131\n",
       "Timely response?                7637\n",
       "dtype: int64"
      ]
     },
     "execution_count": 10,
     "metadata": {},
     "output_type": "execute_result"
    }
   ],
   "source": [
    "# Filter by date  \n",
    "only_2023 = df['Date submitted'] > '2022-12-31'\n",
    "df[only_2023].count()"
   ]
  },
  {
   "cell_type": "code",
   "execution_count": 11,
   "metadata": {},
   "outputs": [
    {
     "data": {
      "text/html": [
       "<div>\n",
       "<style scoped>\n",
       "    .dataframe tbody tr th:only-of-type {\n",
       "        vertical-align: middle;\n",
       "    }\n",
       "\n",
       "    .dataframe tbody tr th {\n",
       "        vertical-align: top;\n",
       "    }\n",
       "\n",
       "    .dataframe thead th {\n",
       "        text-align: right;\n",
       "    }\n",
       "</style>\n",
       "<table border=\"1\" class=\"dataframe\">\n",
       "  <thead>\n",
       "    <tr style=\"text-align: right;\">\n",
       "      <th></th>\n",
       "      <th>Submitted via</th>\n",
       "      <th>Date submitted</th>\n",
       "      <th>Date received</th>\n",
       "      <th>State</th>\n",
       "      <th>Product</th>\n",
       "      <th>Sub-product</th>\n",
       "      <th>Issue</th>\n",
       "      <th>Sub-issue</th>\n",
       "      <th>Company public response</th>\n",
       "      <th>Company response to consumer</th>\n",
       "      <th>Timely response?</th>\n",
       "    </tr>\n",
       "    <tr>\n",
       "      <th>Complaint ID</th>\n",
       "      <th></th>\n",
       "      <th></th>\n",
       "      <th></th>\n",
       "      <th></th>\n",
       "      <th></th>\n",
       "      <th></th>\n",
       "      <th></th>\n",
       "      <th></th>\n",
       "      <th></th>\n",
       "      <th></th>\n",
       "      <th></th>\n",
       "    </tr>\n",
       "  </thead>\n",
       "  <tbody>\n",
       "    <tr>\n",
       "      <th>5184317</th>\n",
       "      <td>Web</td>\n",
       "      <td>2022-02-03</td>\n",
       "      <td>2022-02-03</td>\n",
       "      <td>FL</td>\n",
       "      <td>Credit reporting, credit repair services, or o...</td>\n",
       "      <td>Credit reporting</td>\n",
       "      <td>Incorrect information on your report</td>\n",
       "      <td>Information belongs to someone else</td>\n",
       "      <td>Company has responded to the consumer and the ...</td>\n",
       "      <td>Closed with explanation</td>\n",
       "      <td>Yes</td>\n",
       "    </tr>\n",
       "    <tr>\n",
       "      <th>5181545</th>\n",
       "      <td>Web</td>\n",
       "      <td>2022-02-03</td>\n",
       "      <td>2022-02-04</td>\n",
       "      <td>CO</td>\n",
       "      <td>Checking or savings account</td>\n",
       "      <td>CD (Certificate of Deposit)</td>\n",
       "      <td>Closing an account</td>\n",
       "      <td>Can't close your account</td>\n",
       "      <td>Company has responded to the consumer and the ...</td>\n",
       "      <td>Closed with monetary relief</td>\n",
       "      <td>Yes</td>\n",
       "    </tr>\n",
       "    <tr>\n",
       "      <th>5177616</th>\n",
       "      <td>Web</td>\n",
       "      <td>2022-02-02</td>\n",
       "      <td>2022-02-02</td>\n",
       "      <td>MN</td>\n",
       "      <td>Checking or savings account</td>\n",
       "      <td>Checking account</td>\n",
       "      <td>Problem caused by your funds being low</td>\n",
       "      <td>Overdrafts and overdraft fees</td>\n",
       "      <td>Company has responded to the consumer and the ...</td>\n",
       "      <td>Closed with monetary relief</td>\n",
       "      <td>Yes</td>\n",
       "    </tr>\n",
       "    <tr>\n",
       "      <th>5179428</th>\n",
       "      <td>Web</td>\n",
       "      <td>2022-02-02</td>\n",
       "      <td>2022-02-02</td>\n",
       "      <td>CA</td>\n",
       "      <td>Debt collection</td>\n",
       "      <td>Mortgage debt</td>\n",
       "      <td>False statements or representation</td>\n",
       "      <td>Attempted to collect wrong amount</td>\n",
       "      <td>Company has responded to the consumer and the ...</td>\n",
       "      <td>Closed with explanation</td>\n",
       "      <td>Yes</td>\n",
       "    </tr>\n",
       "    <tr>\n",
       "      <th>5178196</th>\n",
       "      <td>Web</td>\n",
       "      <td>2022-02-02</td>\n",
       "      <td>2022-02-02</td>\n",
       "      <td>FL</td>\n",
       "      <td>Checking or savings account</td>\n",
       "      <td>Checking account</td>\n",
       "      <td>Opening an account</td>\n",
       "      <td>Unable to open an account</td>\n",
       "      <td>Company has responded to the consumer and the ...</td>\n",
       "      <td>Closed with explanation</td>\n",
       "      <td>Yes</td>\n",
       "    </tr>\n",
       "  </tbody>\n",
       "</table>\n",
       "</div>"
      ],
      "text/plain": [
       "             Submitted via Date submitted Date received State  \\\n",
       "Complaint ID                                                    \n",
       "5184317                Web     2022-02-03    2022-02-03    FL   \n",
       "5181545                Web     2022-02-03    2022-02-04    CO   \n",
       "5177616                Web     2022-02-02    2022-02-02    MN   \n",
       "5179428                Web     2022-02-02    2022-02-02    CA   \n",
       "5178196                Web     2022-02-02    2022-02-02    FL   \n",
       "\n",
       "                                                        Product  \\\n",
       "Complaint ID                                                      \n",
       "5184317       Credit reporting, credit repair services, or o...   \n",
       "5181545                             Checking or savings account   \n",
       "5177616                             Checking or savings account   \n",
       "5179428                                         Debt collection   \n",
       "5178196                             Checking or savings account   \n",
       "\n",
       "                              Sub-product  \\\n",
       "Complaint ID                                \n",
       "5184317                  Credit reporting   \n",
       "5181545       CD (Certificate of Deposit)   \n",
       "5177616                  Checking account   \n",
       "5179428                     Mortgage debt   \n",
       "5178196                  Checking account   \n",
       "\n",
       "                                               Issue  \\\n",
       "Complaint ID                                           \n",
       "5184317         Incorrect information on your report   \n",
       "5181545                           Closing an account   \n",
       "5177616       Problem caused by your funds being low   \n",
       "5179428           False statements or representation   \n",
       "5178196                           Opening an account   \n",
       "\n",
       "                                        Sub-issue  \\\n",
       "Complaint ID                                        \n",
       "5184317       Information belongs to someone else   \n",
       "5181545                  Can't close your account   \n",
       "5177616             Overdrafts and overdraft fees   \n",
       "5179428         Attempted to collect wrong amount   \n",
       "5178196                 Unable to open an account   \n",
       "\n",
       "                                        Company public response  \\\n",
       "Complaint ID                                                      \n",
       "5184317       Company has responded to the consumer and the ...   \n",
       "5181545       Company has responded to the consumer and the ...   \n",
       "5177616       Company has responded to the consumer and the ...   \n",
       "5179428       Company has responded to the consumer and the ...   \n",
       "5178196       Company has responded to the consumer and the ...   \n",
       "\n",
       "             Company response to consumer Timely response?  \n",
       "Complaint ID                                                \n",
       "5184317           Closed with explanation              Yes  \n",
       "5181545       Closed with monetary relief              Yes  \n",
       "5177616       Closed with monetary relief              Yes  \n",
       "5179428           Closed with explanation              Yes  \n",
       "5178196           Closed with explanation              Yes  "
      ]
     },
     "execution_count": 11,
     "metadata": {},
     "output_type": "execute_result"
    }
   ],
   "source": [
    "date22_23 = df['Date submitted'].between('2022-02-02', '2022-02-03')\n",
    "df[date22_23].head()"
   ]
  },
  {
   "cell_type": "code",
   "execution_count": 12,
   "metadata": {},
   "outputs": [
    {
     "data": {
      "text/plain": [
       "Product\n",
       "Student loan                                                                       39\n",
       "Payday loan, title loan, or personal loan                                         333\n",
       "Vehicle loan or lease                                                             633\n",
       "Debt collection                                                                  2736\n",
       "Money transfer, virtual currency, or money service                               3453\n",
       "Mortgage                                                                         6601\n",
       "Credit reporting, credit repair services, or other personal consumer reports     7710\n",
       "Credit card or prepaid card                                                     16197\n",
       "Checking or savings account                                                     24814\n",
       "Name: State, dtype: int64"
      ]
     },
     "execution_count": 12,
     "metadata": {},
     "output_type": "execute_result"
    }
   ],
   "source": [
    "#Group by Product\n",
    "products = df.groupby('Product')\n",
    "products['State'].count().sort_values(ascending=True)"
   ]
  },
  {
   "cell_type": "code",
   "execution_count": 13,
   "metadata": {},
   "outputs": [
    {
     "data": {
      "text/plain": [
       "<Axes: xlabel='State'>"
      ]
     },
     "execution_count": 13,
     "metadata": {},
     "output_type": "execute_result"
    },
    {
     "data": {
      "image/png": "[encoded data removed]",
      "text/plain": [
       "<Figure size 640x480 with 1 Axes>"
      ]
     },
     "metadata": {},
     "output_type": "display_data"
    }
   ],
   "source": [
    "#Group by State\n",
    "state = df.groupby('State')\n",
    "state_count = state['Issue'].count()\n",
    "import matplotlib\n",
    "state_count.plot(kind=\"bar\")"
   ]
  },
  {
   "cell_type": "code",
   "execution_count": 24,
   "metadata": {},
   "outputs": [
    {
     "data": {
      "text/plain": [
       "State\n",
       "AK      110\n",
       "AL      269\n",
       "AR      266\n",
       "AZ     1516\n",
       "CA    13709\n",
       "Name: Issue, dtype: int64"
      ]
     },
     "execution_count": 24,
     "metadata": {},
     "output_type": "execute_result"
    }
   ],
   "source": [
    "pd.Series(state_count).head()\n"
   ]
  },
  {
   "cell_type": "code",
   "execution_count": 26,
   "metadata": {},
   "outputs": [
    {
     "data": {
      "text/plain": [
       "23"
      ]
     },
     "execution_count": 26,
     "metadata": {},
     "output_type": "execute_result"
    }
   ],
   "source": [
    "colores = {\n",
    "    'rojo': 23,\n",
    "    'verde': 11,\n",
    "    'amarillo': 1,\n",
    "}\n",
    "ser_colores = pd.Series(colores)\n",
    "ser_colores['rojo']"
   ]
  },
  {
   "cell_type": "code",
   "execution_count": 44,
   "metadata": {},
   "outputs": [
    {
     "data": {
      "text/plain": [
       "0     371\n",
       "1    1908\n",
       "2     812\n",
       "3    1814\n",
       "4    1119\n",
       "5     650\n",
       "6     895\n",
       "7     575\n",
       "8     428\n",
       "9    1830\n",
       "dtype: int64"
      ]
     },
     "execution_count": 44,
     "metadata": {},
     "output_type": "execute_result"
    }
   ],
   "source": [
    "sample_data = np.random.randint(10,2000,10)\n",
    "ser_sample = pd.Series(sample_data)\n",
    "ser_sample"
   ]
  },
  {
   "cell_type": "code",
   "execution_count": 45,
   "metadata": {},
   "outputs": [
    {
     "data": {
      "text/plain": [
       "array([ 371, 1908,  812, 1814, 1119,  650,  895,  575,  428, 1830])"
      ]
     },
     "execution_count": 45,
     "metadata": {},
     "output_type": "execute_result"
    }
   ],
   "source": [
    "ser_sample.values"
   ]
  },
  {
   "cell_type": "code",
   "execution_count": 47,
   "metadata": {},
   "outputs": [
    {
     "data": {
      "text/plain": [
       "RangeIndex(start=0, stop=10, step=1)"
      ]
     },
     "execution_count": 47,
     "metadata": {},
     "output_type": "execute_result"
    }
   ],
   "source": [
    "ser_sample.index"
   ]
  },
  {
   "cell_type": "code",
   "execution_count": 48,
   "metadata": {},
   "outputs": [
    {
     "data": {
      "text/plain": [
       "array([23, 11,  1])"
      ]
     },
     "execution_count": 48,
     "metadata": {},
     "output_type": "execute_result"
    }
   ],
   "source": [
    "ser_colores.values"
   ]
  },
  {
   "cell_type": "code",
   "execution_count": 51,
   "metadata": {},
   "outputs": [
    {
     "data": {
      "text/plain": [
       "pandas.core.indexes.base.Index"
      ]
     },
     "execution_count": 51,
     "metadata": {},
     "output_type": "execute_result"
    }
   ],
   "source": [
    "type(ser_colores.index)"
   ]
  },
  {
   "cell_type": "code",
   "execution_count": 56,
   "metadata": {},
   "outputs": [
    {
     "data": {
      "text/plain": [
       "True"
      ]
     },
     "execution_count": 56,
     "metadata": {},
     "output_type": "execute_result"
    }
   ],
   "source": [
    "ser_colores.is_unique"
   ]
  },
  {
   "cell_type": "code",
   "execution_count": 89,
   "metadata": {},
   "outputs": [],
   "source": [
    "dos = pd.Series(data=(2,2,2,2,)).is_unique"
   ]
  },
  {
   "cell_type": "code",
   "execution_count": 61,
   "metadata": {},
   "outputs": [
    {
     "data": {
      "text/plain": [
       "False"
      ]
     },
     "execution_count": 61,
     "metadata": {},
     "output_type": "execute_result"
    }
   ],
   "source": [
    "pd.Series(data=[1,2,3,4,]).is_monotonic_decreasing #.is_monotonic_increasing"
   ]
  },
  {
   "cell_type": "code",
   "execution_count": 73,
   "metadata": {},
   "outputs": [
    {
     "data": {
      "text/plain": [
       "0    1\n",
       "1    3\n",
       "2    5\n",
       "3    7\n",
       "4    9\n",
       "dtype: int64"
      ]
     },
     "execution_count": 73,
     "metadata": {},
     "output_type": "execute_result"
    }
   ],
   "source": [
    "numeros = range(1,1000, 2)\n",
    "serie1  = pd.Series(data=numeros)\n",
    "serie1.head() "
   ]
  },
  {
   "cell_type": "code",
   "execution_count": 74,
   "metadata": {},
   "outputs": [
    {
     "data": {
      "text/plain": [
       "250000"
      ]
     },
     "execution_count": 74,
     "metadata": {},
     "output_type": "execute_result"
    }
   ],
   "source": [
    "serie1.count()\n",
    "serie1.sum(skipna=False)\n"
   ]
  },
  {
   "cell_type": "code",
   "execution_count": 75,
   "metadata": {},
   "outputs": [
    {
     "data": {
      "text/plain": [
       "250000"
      ]
     },
     "execution_count": 75,
     "metadata": {},
     "output_type": "execute_result"
    }
   ],
   "source": [
    "serie1.sum(min_count=1) # Review the documentation"
   ]
  },
  {
   "cell_type": "code",
   "execution_count": 76,
   "metadata": {},
   "outputs": [
    {
     "data": {
      "text/plain": [
       "4304323484908249161"
      ]
     },
     "execution_count": 76,
     "metadata": {},
     "output_type": "execute_result"
    }
   ],
   "source": [
    "serie1.product()"
   ]
  },
  {
   "cell_type": "code",
   "execution_count": 78,
   "metadata": {},
   "outputs": [
    {
     "data": {
      "text/plain": [
       "0     1\n",
       "1     4\n",
       "2     9\n",
       "3    16\n",
       "4    25\n",
       "dtype: int64"
      ]
     },
     "execution_count": 78,
     "metadata": {},
     "output_type": "execute_result"
    }
   ],
   "source": [
    "serie1.cumsum().head()"
   ]
  },
  {
   "cell_type": "code",
   "execution_count": 79,
   "metadata": {},
   "outputs": [
    {
     "data": {
      "text/plain": [
       "0         NaN\n",
       "1    2.000000\n",
       "2    0.666667\n",
       "3    0.400000\n",
       "4    0.285714\n",
       "5    0.222222\n",
       "6    0.181818\n",
       "7    0.153846\n",
       "8    0.133333\n",
       "9    0.117647\n",
       "dtype: float64"
      ]
     },
     "execution_count": 79,
     "metadata": {},
     "output_type": "execute_result"
    }
   ],
   "source": [
    "serie1.pct_change().head(10)"
   ]
  },
  {
   "cell_type": "code",
   "execution_count": 80,
   "metadata": {},
   "outputs": [
    {
     "data": {
      "text/plain": [
       "0         NaN\n",
       "1    3.000000\n",
       "2    1.250000\n",
       "3    0.777778\n",
       "4    0.562500\n",
       "5    0.440000\n",
       "6    0.361111\n",
       "7    0.306122\n",
       "8    0.265625\n",
       "9    0.234568\n",
       "dtype: float64"
      ]
     },
     "execution_count": 80,
     "metadata": {},
     "output_type": "execute_result"
    }
   ],
   "source": [
    "serie1.cumsum().pct_change().head(10)"
   ]
  },
  {
   "cell_type": "code",
   "execution_count": 81,
   "metadata": {},
   "outputs": [
    {
     "data": {
      "text/plain": [
       "500.0"
      ]
     },
     "execution_count": 81,
     "metadata": {},
     "output_type": "execute_result"
    }
   ],
   "source": [
    "serie1.mean()"
   ]
  },
  {
   "cell_type": "code",
   "execution_count": 82,
   "metadata": {},
   "outputs": [
    {
     "data": {
      "text/plain": [
       "500.0"
      ]
     },
     "execution_count": 82,
     "metadata": {},
     "output_type": "execute_result"
    }
   ],
   "source": [
    "serie1.median()"
   ]
  },
  {
   "cell_type": "code",
   "execution_count": 83,
   "metadata": {},
   "outputs": [
    {
     "data": {
      "text/plain": [
       "288.9636655359978"
      ]
     },
     "execution_count": 83,
     "metadata": {},
     "output_type": "execute_result"
    }
   ],
   "source": [
    "serie1.std()"
   ]
  },
  {
   "cell_type": "code",
   "execution_count": 84,
   "metadata": {},
   "outputs": [
    {
     "data": {
      "text/plain": [
       "999"
      ]
     },
     "execution_count": 84,
     "metadata": {},
     "output_type": "execute_result"
    }
   ],
   "source": [
    "serie1.max()"
   ]
  },
  {
   "cell_type": "code",
   "execution_count": 87,
   "metadata": {},
   "outputs": [
    {
     "data": {
      "text/plain": [
       "count    500.000000\n",
       "mean     500.000000\n",
       "std      288.963666\n",
       "min        1.000000\n",
       "25%      250.500000\n",
       "50%      500.000000\n",
       "75%      749.500000\n",
       "max      999.000000\n",
       "dtype: float64"
      ]
     },
     "execution_count": 87,
     "metadata": {},
     "output_type": "execute_result"
    }
   ],
   "source": [
    "serie1.describe() #serie1.describe()['count']"
   ]
  },
  {
   "cell_type": "code",
   "execution_count": 88,
   "metadata": {},
   "outputs": [
    {
     "data": {
      "text/plain": [
       "476    953\n",
       "441    883\n",
       "55     111\n",
       "360    721\n",
       "64     129\n",
       "dtype: int64"
      ]
     },
     "execution_count": 88,
     "metadata": {},
     "output_type": "execute_result"
    }
   ],
   "source": [
    "serie1.sample(5)"
   ]
  },
  {
   "cell_type": "code",
   "execution_count": 91,
   "metadata": {},
   "outputs": [
    {
     "data": {
      "text/plain": [
       "array([1, 2, 3, 4, 5, 6])"
      ]
     },
     "execution_count": 91,
     "metadata": {},
     "output_type": "execute_result"
    }
   ],
   "source": [
    "tres = pd.Series(data= [1,2,3,4,4,4,5,6])\n",
    "tres.unique()"
   ]
  },
  {
   "cell_type": "code",
   "execution_count": 92,
   "metadata": {},
   "outputs": [
    {
     "data": {
      "text/plain": [
       "6"
      ]
     },
     "execution_count": 92,
     "metadata": {},
     "output_type": "execute_result"
    }
   ],
   "source": [
    "tres.nunique()"
   ]
  },
  {
   "cell_type": "code",
   "execution_count": 93,
   "metadata": {},
   "outputs": [
    {
     "data": {
      "text/plain": [
       "5"
      ]
     },
     "execution_count": 93,
     "metadata": {},
     "output_type": "execute_result"
    }
   ],
   "source": [
    "tres[6]"
   ]
  },
  {
   "cell_type": "code",
   "execution_count": null,
   "metadata": {},
   "outputs": [],
   "source": []
  }
 ],
 "metadata": {
  "kernelspec": {
   "display_name": "Python 3",
   "language": "python",
   "name": "python3"
  },
  "language_info": {
   "codemirror_mode": {
    "name": "ipython",
    "version": 3
   },
   "file_extension": ".py",
   "mimetype": "text/x-python",
   "name": "python",
   "nbconvert_exporter": "python",
   "pygments_lexer": "ipython3",
   "version": "3.11.8"
  }
 },
 "nbformat": 4,
 "nbformat_minor": 2
}
