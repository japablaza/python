{
 "cells": [
  {
   "cell_type": "code",
   "execution_count": 7,
   "metadata": {},
   "outputs": [],
   "source": [
    "import pandas as pd\n",
    "customers = pd.read_excel('cu_comp.xlsx')\n",
    "serie_cu  = pd.read_excel('cu_comp.xlsx', index_col='Complaint ID')"
   ]
  },
  {
   "cell_type": "code",
   "execution_count": 13,
   "metadata": {},
   "outputs": [],
   "source": [
    "customers\n",
    "issues = pd.Series(serie_cu['Issue'])"
   ]
  },
  {
   "cell_type": "code",
   "execution_count": 26,
   "metadata": {},
   "outputs": [
    {
     "data": {
      "text/plain": [
       "pandas.core.series.Series"
      ]
     },
     "execution_count": 26,
     "metadata": {},
     "output_type": "execute_result"
    }
   ],
   "source": [
    "issues\n",
    "type(issues)"
   ]
  },
  {
   "cell_type": "code",
   "execution_count": 34,
   "metadata": {},
   "outputs": [
    {
     "data": {
      "text/plain": [
       "Complaint ID\n",
       "4848023    Applying for a mortgage or refinancing an exis...\n",
       "3621464                                 Lost or stolen check\n",
       "5818349                 Incorrect information on your report\n",
       "7233015         Problem getting a card or closing an account\n",
       "5820224                                 Closing your account\n",
       "Name: Issue, dtype: object"
      ]
     },
     "execution_count": 34,
     "metadata": {},
     "output_type": "execute_result"
    }
   ],
   "source": [
    "serie_cu_dos = pd.read_excel('cu_comp.xlsx',\n",
    "                             index_col='Complaint ID',\n",
    "                             usecols=['Complaint ID', 'Issue']\n",
    "    \n",
    ")\n",
    "serie_cu_dos\n",
    "new_serie = serie_cu_dos.squeeze()\n",
    "new_serie.head()"
   ]
  },
  {
   "cell_type": "code",
   "execution_count": 37,
   "metadata": {},
   "outputs": [
    {
     "data": {
      "text/plain": [
       "Complaint ID\n",
       "5278408                         Advertising\n",
       "4322644                         Advertising\n",
       "5990126                         Advertising\n",
       "4515427                         Advertising\n",
       "3708163                         Advertising\n",
       "                         ...               \n",
       "3879574    Wrong amount charged or received\n",
       "2888712    Wrong amount charged or received\n",
       "6388059    Wrong amount charged or received\n",
       "3853646    Wrong amount charged or received\n",
       "5112855    Wrong amount charged or received\n",
       "Name: Issue, Length: 62516, dtype: object"
      ]
     },
     "execution_count": 37,
     "metadata": {},
     "output_type": "execute_result"
    }
   ],
   "source": [
    "issues.sort_values(na_position= 'last')\n",
    "issues.dropna().sort_values()"
   ]
  },
  {
   "cell_type": "code",
   "execution_count": 38,
   "metadata": {},
   "outputs": [
    {
     "data": {
      "text/plain": [
       "Complaint ID\n",
       "4667675                                          Advertising\n",
       "2721761    Advertising and marketing, including promotion...\n",
       "4848023    Applying for a mortgage or refinancing an exis...\n",
       "3820525                    Attempts to collect debt not owed\n",
       "4973479                     Can't contact lender or servicer\n",
       "                                 ...                        \n",
       "5056511          Vehicle was repossessed or sold the vehicle\n",
       "3875144    Was approved for a loan, but didn't receive money\n",
       "3592112    Was approved for a loan, but didn't receive th...\n",
       "7387569                      Written notification about debt\n",
       "4843168                     Wrong amount charged or received\n",
       "Name: Issue, Length: 76, dtype: object"
      ]
     },
     "execution_count": 38,
     "metadata": {},
     "output_type": "execute_result"
    }
   ],
   "source": [
    "issues.drop_duplicates().sort_values()"
   ]
  },
  {
   "cell_type": "code",
   "execution_count": null,
   "metadata": {},
   "outputs": [],
   "source": []
  },
  {
   "cell_type": "code",
   "execution_count": null,
   "metadata": {},
   "outputs": [],
   "source": []
  }
 ],
 "metadata": {
  "kernelspec": {
   "display_name": "Python 3",
   "language": "python",
   "name": "python3"
  },
  "language_info": {
   "codemirror_mode": {
    "name": "ipython",
    "version": 3
   },
   "file_extension": ".py",
   "mimetype": "text/x-python",
   "name": "python",
   "nbconvert_exporter": "python",
   "pygments_lexer": "ipython3",
   "version": "3.11.8"
  }
 },
 "nbformat": 4,
 "nbformat_minor": 2
}
