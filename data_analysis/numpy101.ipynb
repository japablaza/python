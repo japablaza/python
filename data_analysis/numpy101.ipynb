{
 "cells": [
  {
   "cell_type": "markdown",
   "metadata": {},
   "source": [
    "# 101 NumPy"
   ]
  },
  {
   "cell_type": "code",
   "execution_count": 8,
   "metadata": {},
   "outputs": [],
   "source": [
    "import numpy as np \n",
    "num = 1_000_000\n",
    "list_np = np.arange(num)\n",
    "list_py = list(range(num))"
   ]
  },
  {
   "cell_type": "code",
   "execution_count": 9,
   "metadata": {},
   "outputs": [
    {
     "name": "stdout",
     "output_type": "stream",
     "text": [
      "57.7 ms ± 1.77 ms per loop (mean ± std. dev. of 7 runs, 10 loops each)\n"
     ]
    }
   ],
   "source": [
    "# Cuanto tiempo se demora en multiplicar una list\n",
    "%timeit list_time = [x * 2 for x in list_py]"
   ]
  },
  {
   "cell_type": "code",
   "execution_count": 10,
   "metadata": {},
   "outputs": [
    {
     "name": "stdout",
     "output_type": "stream",
     "text": [
      "1.35 ms ± 64.3 µs per loop (mean ± std. dev. of 7 runs, 1,000 loops each)\n"
     ]
    }
   ],
   "source": [
    "# Cuanto tiempo se demora en multiplicar un arreglo en np\n",
    "%timeit list_np*2"
   ]
  },
  {
   "cell_type": "code",
   "execution_count": 16,
   "metadata": {},
   "outputs": [
    {
     "data": {
      "text/plain": [
       "array([[12, 24, 36],\n",
       "       [36, 48, 60]])"
      ]
     },
     "execution_count": 16,
     "metadata": {},
     "output_type": "execute_result"
    }
   ],
   "source": [
    "# Arreglo simple\n",
    "arreglo = np.array([[1,2,3],[3,4,5]])\n",
    "arreglo *11 + arreglo"
   ]
  },
  {
   "cell_type": "code",
   "execution_count": 21,
   "metadata": {},
   "outputs": [
    {
     "data": {
      "text/plain": [
       "2"
      ]
     },
     "execution_count": 21,
     "metadata": {},
     "output_type": "execute_result"
    }
   ],
   "source": [
    "# arreglo.shape # Output (2,3)\n",
    "arreglo.dtype # Output dtype('int64')\n",
    "arreglo.ndim  # Output 2 "
   ]
  },
  {
   "cell_type": "code",
   "execution_count": 32,
   "metadata": {},
   "outputs": [
    {
     "data": {
      "text/plain": [
       "array([[1., 1.],\n",
       "       [1., 1.]])"
      ]
     },
     "execution_count": 32,
     "metadata": {},
     "output_type": "execute_result"
    }
   ],
   "source": [
    "# Np Zero and Ones\n",
    "arreglo_zero_1 = np.zeros(33)\n",
    "arreglo_zero_2 = np.zeros((4,4))\n",
    "arreglo_unos_1 = np.ones(11)\n",
    "arreglo_unos_2 = np.ones((2,2))"
   ]
  },
  {
   "cell_type": "code",
   "execution_count": 35,
   "metadata": {},
   "outputs": [
    {
     "data": {
      "text/plain": [
       "array([[[4.79173844e-310, 0.00000000e+000, 6.50893702e-310,\n",
       "         6.50893702e-310, 6.50893702e-310],\n",
       "        [6.50893702e-310, 6.50893702e-310, 6.50893702e-310,\n",
       "         6.50893702e-310, 6.50893702e-310],\n",
       "        [6.50893702e-310, 6.50893702e-310, 6.50893702e-310,\n",
       "         6.50893702e-310, 6.50893702e-310],\n",
       "        [6.50893702e-310, 6.50893702e-310, 6.50893702e-310,\n",
       "         6.50893702e-310, 6.50893702e-310]],\n",
       "\n",
       "       [[6.50893702e-310, 6.50893702e-310, 6.50893702e-310,\n",
       "         6.50893702e-310, 6.50893702e-310],\n",
       "        [6.50893702e-310, 6.50893702e-310, 6.50893702e-310,\n",
       "         6.50893702e-310, 6.50893702e-310],\n",
       "        [6.50893702e-310, 6.50893702e-310, 6.50893702e-310,\n",
       "         6.50893702e-310, 6.50893702e-310],\n",
       "        [6.50893702e-310, 6.50893702e-310, 6.50893702e-310,\n",
       "         6.50893702e-310, 6.50893702e-310]],\n",
       "\n",
       "       [[6.50893702e-310, 6.50893702e-310, 6.50893702e-310,\n",
       "         6.50893702e-310, 6.50893702e-310],\n",
       "        [6.50893702e-310, 6.50893702e-310, 6.50893702e-310,\n",
       "         6.50893702e-310, 6.50893702e-310],\n",
       "        [6.50893702e-310, 6.50893702e-310, 6.50893702e-310,\n",
       "         6.50893702e-310, 6.50893702e-310],\n",
       "        [6.50893702e-310, 6.50893702e-310, 6.50893702e-310,\n",
       "         6.50893702e-310, 6.50893702e-310]]])"
      ]
     },
     "execution_count": 35,
     "metadata": {},
     "output_type": "execute_result"
    }
   ],
   "source": [
    "# Np empty\n",
    "arreglo_vacio = np.empty((3,4,5))\n",
    "arreglo_vacio"
   ]
  },
  {
   "cell_type": "code",
   "execution_count": 37,
   "metadata": {},
   "outputs": [
    {
     "data": {
      "text/plain": [
       "dtype('int64')"
      ]
     },
     "execution_count": 37,
     "metadata": {},
     "output_type": "execute_result"
    }
   ],
   "source": [
    "# arange\n",
    "arreglo_a = np.arange(22)\n",
    "arreglo_a.dtype"
   ]
  },
  {
   "cell_type": "code",
   "execution_count": 42,
   "metadata": {},
   "outputs": [
    {
     "data": {
      "text/plain": [
       "array([1., 0., 0.])"
      ]
     },
     "execution_count": 42,
     "metadata": {},
     "output_type": "execute_result"
    }
   ],
   "source": [
    "# eye\n",
    "arreglo_eye = np.eye(3,)\n",
    "arreglo_eye[0]"
   ]
  },
  {
   "cell_type": "code",
   "execution_count": null,
   "metadata": {},
   "outputs": [],
   "source": []
  }
 ],
 "metadata": {
  "kernelspec": {
   "display_name": "Python 3",
   "language": "python",
   "name": "python3"
  },
  "language_info": {
   "codemirror_mode": {
    "name": "ipython",
    "version": 3
   },
   "file_extension": ".py",
   "mimetype": "text/x-python",
   "name": "python",
   "nbconvert_exporter": "python",
   "pygments_lexer": "ipython3",
   "version": "3.11.8"
  }
 },
 "nbformat": 4,
 "nbformat_minor": 2
}
